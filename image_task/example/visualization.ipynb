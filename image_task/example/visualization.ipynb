{
 "cells": [
  {
   "cell_type": "code",
   "execution_count": 64,
   "metadata": {},
   "source": [
    "import sys\n",
    "import os\n",
    "import timm\n",
    "import torch\n",
    "from timm.models import create_model\n",
    "import torch.nn as nn\n",
    "\n",
    "sys.path.append(os.path.abspath(os.path.join(os.getcwd(), '..')))\n",
    "from R_MeeTo import RMeeTo_Mamba,RMeeTo_Mamba_Video,RMeeToVisionTransformer\n",
    "#visualization\n",
    "import random\n",
    "import torchvision\n",
    "from torchvision import transforms\n",
    "from torchvision.transforms.functional import InterpolationMode\n",
    "from PIL import Image\n",
    "from timm.data.constants import IMAGENET_DEFAULT_MEAN, IMAGENET_DEFAULT_STD\n",
    "from utils.visualization import make_visualization\n",
    "import matplotlib.pyplot as plt"
   ],
   "outputs": []
  },
  {
   "cell_type": "code",
   "execution_count": 65,
   "metadata": {},
   "source": [
    "#choose the model\n",
    "model_merge = 'RMeeTo_small'\n",
    "model_pth = './model_best.pth'"
   ],
   "outputs": []
  },
  {
   "cell_type": "code",
   "execution_count": 66,
   "metadata": {},
   "source": [
    "#set merge parameters\n",
    "merge_para = {\n",
    "        'num_prune': 11,\n",
    "        'distance': 'cosine',\n",
    "        'metric': 'X',\n",
    "        'merge_interval': 2,\n",
    "        'if_prune': False,\n",
    "        'if_order': True,\n",
    "        'class_token': True,\n",
    "        'if_merge': True,\n",
    "        'if_merge_odd': False,\n",
    "        'merge_mode':'sum',\n",
    "        'choose':'max',\n",
    "        'compare': 11,\n",
    "    }\n",
    "\n",
    "print(\"Merge para:\",merge_para)"
   ],
   "outputs": []
  },
  {
   "cell_type": "code",
   "execution_count": 67,
   "metadata": {},
   "source": [
    "model = create_model(\n",
    "    model_merge,\n",
    "    pretrained=False,\n",
    "    model_pth=model_pth,\n",
    "    merge_para=merge_para,\n",
    "    if_visualize=True,\n",
    ")\n",
    "model.load_state_dict(torch.load(model_pth)['model'])\n",
    "device = 'cuda'\n",
    "model.to(device)"
   ],
   "outputs": []
  },
  {
   "cell_type": "code",
   "execution_count": 68,
   "metadata": {},
   "source": [
    "input_size = 224\n",
    "transform_list = [\n",
    "transforms.Resize(int((256 / 224) * input_size), interpolation=InterpolationMode.BICUBIC),\n",
    "transforms.CenterCrop(input_size)]   \n",
    "mean = IMAGENET_DEFAULT_MEAN\n",
    "std = IMAGENET_DEFAULT_STD\n",
    "transform_vis  = transforms.Compose(transform_list)\n",
    "transform_norm = transforms.Compose(transform_list + [\n",
    "transforms.ToTensor(),\n",
    "transforms.Normalize(mean, std)])\n",
    "\n",
    "img = Image.open('./test_figs/ILSVRC2012_val_00005225.JPEG')\n",
    "\n",
    "img_vis = transform_vis(img)\n",
    "img_norm = transform_norm(img)\n",
    "img_norm = img_norm.unsqueeze(0).to(device)\n",
    "out = model(img_norm)\n",
    "\n",
    "source = model.source\n",
    "print(f\"{source.shape[1]} tokens at the end\")\n",
    "vision_picture=make_visualization(img_vis, source, patch_size=16, class_token=True)\n",
    "#show the visualization\n",
    "plt.imshow(vision_picture)\n",
    "plt.show()\n"
   ],
   "outputs": []
  }
 ],
 "metadata": {
  "kernelspec": {
   "display_name": "Python 3",
   "language": "python",
   "name": "python3"
  },
  "language_info": {
   "codemirror_mode": {
    "name": "ipython",
    "version": 3
   },
   "file_extension": ".py",
   "mimetype": "text/x-python",
   "name": "python",
   "nbconvert_exporter": "python",
   "pygments_lexer": "ipython3",
   "version": "3.10.13"
  }
 },
 "nbformat": 4,
 "nbformat_minor": 2
}
